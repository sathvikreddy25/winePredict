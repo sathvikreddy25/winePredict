{
 "cells": [
  {
   "cell_type": "code",
   "execution_count": 20,
   "id": "9d0e1b0c",
   "metadata": {},
   "outputs": [],
   "source": [
    "from pyspark.sql.functions import col\n",
    "import numpy as np\n",
    "from pyspark.ml.feature import VectorAssembler\n",
    "from pyspark import SparkContext, SparkConf\n",
    "from pyspark.mllib.regression import LabeledPoint\n",
    "from pyspark.mllib.tree import RandomForest, GradientBoostedTrees\n"
   ]
  },
  {
   "cell_type": "code",
   "execution_count": 2,
   "id": "9531ae38",
   "metadata": {},
   "outputs": [],
   "source": [
    "\n",
    "import pyspark\n",
    "\n",
    "from pyspark.sql import SparkSession\n",
    "\n",
    "\n",
    "conf = pyspark.SparkConf().setAppName('winequality').setMaster('local')\n",
    "sc = pyspark.SparkContext(conf=conf)\n",
    "spark = SparkSession(sc)"
   ]
  },
  {
   "cell_type": "code",
   "execution_count": 3,
   "id": "8a3cd380",
   "metadata": {},
   "outputs": [
    {
     "data": {
      "text/html": [
       "\n",
       "            <div>\n",
       "                <p><b>SparkSession - in-memory</b></p>\n",
       "                \n",
       "        <div>\n",
       "            <p><b>SparkContext</b></p>\n",
       "\n",
       "            <p><a href=\"http://LAPTOP-LTMPDKBA:4040\">Spark UI</a></p>\n",
       "\n",
       "            <dl>\n",
       "              <dt>Version</dt>\n",
       "                <dd><code>v3.3.0</code></dd>\n",
       "              <dt>Master</dt>\n",
       "                <dd><code>local</code></dd>\n",
       "              <dt>AppName</dt>\n",
       "                <dd><code>winequality</code></dd>\n",
       "            </dl>\n",
       "        </div>\n",
       "        \n",
       "            </div>\n",
       "        "
      ],
      "text/plain": [
       "<pyspark.sql.session.SparkSession at 0x1da1b285850>"
      ]
     },
     "execution_count": 3,
     "metadata": {},
     "output_type": "execute_result"
    }
   ],
   "source": [
    "spark"
   ]
  },
  {
   "cell_type": "code",
   "execution_count": 4,
   "id": "6ec6d8d8",
   "metadata": {},
   "outputs": [
    {
     "name": "stdout",
     "output_type": "stream",
     "text": [
      "root\n",
      " |-- \"\"\"\"\"fixed acidity\"\"\"\": string (nullable = true)\n",
      " |-- \"\"\"\"volatile acidity\"\"\"\": string (nullable = true)\n",
      " |-- \"\"\"\"citric acid\"\"\"\": string (nullable = true)\n",
      " |-- \"\"\"\"residual sugar\"\"\"\": string (nullable = true)\n",
      " |-- \"\"\"\"chlorides\"\"\"\": string (nullable = true)\n",
      " |-- \"\"\"\"free sulfur dioxide\"\"\"\": string (nullable = true)\n",
      " |-- \"\"\"\"total sulfur dioxide\"\"\"\": string (nullable = true)\n",
      " |-- \"\"\"\"density\"\"\"\": string (nullable = true)\n",
      " |-- \"\"\"\"pH\"\"\"\": string (nullable = true)\n",
      " |-- \"\"\"\"sulphates\"\"\"\": string (nullable = true)\n",
      " |-- \"\"\"\"alcohol\"\"\"\": string (nullable = true)\n",
      " |-- \"\"\"\"quality\"\"\"\"\": string (nullable = true)\n",
      "\n",
      "+----------------------+------------------------+-------------------+----------------------+-----------------+---------------------------+----------------------------+---------------+----------+-----------------+---------------+----------------+\n",
      "|\"\"\"\"\"fixed acidity\"\"\"\"|\"\"\"\"volatile acidity\"\"\"\"|\"\"\"\"citric acid\"\"\"\"|\"\"\"\"residual sugar\"\"\"\"|\"\"\"\"chlorides\"\"\"\"|\"\"\"\"free sulfur dioxide\"\"\"\"|\"\"\"\"total sulfur dioxide\"\"\"\"|\"\"\"\"density\"\"\"\"|\"\"\"\"pH\"\"\"\"|\"\"\"\"sulphates\"\"\"\"|\"\"\"\"alcohol\"\"\"\"|\"\"\"\"quality\"\"\"\"\"|\n",
      "+----------------------+------------------------+-------------------+----------------------+-----------------+---------------------------+----------------------------+---------------+----------+-----------------+---------------+----------------+\n",
      "|                   8.9|                    0.22|               0.48|                   1.8|            0.077|                         29|                          60|         0.9968|      3.39|             0.53|            9.4|               6|\n",
      "|                   7.6|                    0.39|               0.31|                   2.3|            0.082|                         23|                          71|         0.9982|      3.52|             0.65|            9.7|               5|\n",
      "|                   7.9|                    0.43|               0.21|                   1.6|            0.106|                         10|                          37|         0.9966|      3.17|             0.91|            9.5|               5|\n",
      "|                   8.5|                    0.49|               0.11|                   2.3|            0.084|                          9|                          67|         0.9968|      3.17|             0.53|            9.4|               5|\n",
      "|                   6.9|                     0.4|               0.14|                   2.4|            0.085|                         21|                          40|         0.9968|      3.43|             0.63|            9.7|               6|\n",
      "|                   6.3|                    0.39|               0.16|                   1.4|             0.08|                         11|                          23|         0.9955|      3.34|             0.56|            9.3|               5|\n",
      "|                   7.6|                    0.41|               0.24|                   1.8|             0.08|                          4|                          11|         0.9962|      3.28|             0.59|            9.5|               5|\n",
      "|                   7.9|                    0.43|               0.21|                   1.6|            0.106|                         10|                          37|         0.9966|      3.17|             0.91|            9.5|               5|\n",
      "|                   7.1|                    0.71|                  0|                   1.9|             0.08|                         14|                          35|         0.9972|      3.47|             0.55|            9.4|               5|\n",
      "|                   7.8|                   0.645|                  0|                     2|            0.082|                          8|                          16|         0.9964|      3.38|             0.59|            9.8|               6|\n",
      "|                   6.7|                   0.675|               0.07|                   2.4|            0.089|                         17|                          82|         0.9958|      3.35|             0.54|           10.1|               5|\n",
      "|                   6.9|                   0.685|                  0|                   2.5|            0.105|                         22|                          37|         0.9966|      3.46|             0.57|           10.6|               6|\n",
      "|                   8.3|                   0.655|               0.12|                   2.3|            0.083|                         15|                         113|         0.9966|      3.17|             0.66|            9.8|               5|\n",
      "|                   6.9|                   0.605|               0.12|                  10.7|            0.073|                         40|                          83|         0.9993|      3.45|             0.52|            9.4|               6|\n",
      "|                   5.2|                    0.32|               0.25|                   1.8|            0.103|                         13|                          50|         0.9957|      3.38|             0.55|            9.2|               5|\n",
      "|                   7.8|                   0.645|                  0|                   5.5|            0.086|                          5|                          18|         0.9986|       3.4|             0.55|            9.6|               6|\n",
      "|                   7.8|                     0.6|               0.14|                   2.4|            0.086|                          3|                          15|         0.9975|      3.42|              0.6|           10.8|               6|\n",
      "|                   8.1|                    0.38|               0.28|                   2.1|            0.066|                         13|                          30|         0.9968|      3.23|             0.73|            9.7|               7|\n",
      "|                   5.7|                    1.13|               0.09|                   1.5|            0.172|                          7|                          19|          0.994|       3.5|             0.48|            9.8|               4|\n",
      "|                   7.3|                    0.45|               0.36|                   5.9|            0.074|                         12|                          87|         0.9978|      3.33|             0.83|           10.5|               5|\n",
      "+----------------------+------------------------+-------------------+----------------------+-----------------+---------------------------+----------------------------+---------------+----------+-----------------+---------------+----------------+\n",
      "only showing top 20 rows\n",
      "\n"
     ]
    }
   ],
   "source": [
    "df = spark.read.format(\"csv\").load(\"TrainingDataset.csv\" , header = True ,sep =\";\")\n",
    "df.printSchema()\n",
    "df.show()"
   ]
  },
  {
   "cell_type": "code",
   "execution_count": 5,
   "id": "0b7ebc07",
   "metadata": {},
   "outputs": [
    {
     "data": {
      "text/plain": [
       "DataFrame[summary: string, \"\"\"\"\"fixed acidity\"\"\"\": string, \"\"\"\"volatile acidity\"\"\"\": string, \"\"\"\"citric acid\"\"\"\": string, \"\"\"\"residual sugar\"\"\"\": string, \"\"\"\"chlorides\"\"\"\": string, \"\"\"\"free sulfur dioxide\"\"\"\": string, \"\"\"\"total sulfur dioxide\"\"\"\": string, \"\"\"\"density\"\"\"\": string, \"\"\"\"pH\"\"\"\": string, \"\"\"\"sulphates\"\"\"\": string, \"\"\"\"alcohol\"\"\"\": string, \"\"\"\"quality\"\"\"\"\": string]"
      ]
     },
     "execution_count": 5,
     "metadata": {},
     "output_type": "execute_result"
    }
   ],
   "source": [
    "df.describe()"
   ]
  },
  {
   "cell_type": "code",
   "execution_count": 6,
   "id": "0dc17dfe",
   "metadata": {},
   "outputs": [
    {
     "data": {
      "text/plain": [
       "['\"\"\"\"\"fixed acidity\"\"\"\"',\n",
       " '\"\"\"\"volatile acidity\"\"\"\"',\n",
       " '\"\"\"\"citric acid\"\"\"\"',\n",
       " '\"\"\"\"residual sugar\"\"\"\"',\n",
       " '\"\"\"\"chlorides\"\"\"\"',\n",
       " '\"\"\"\"free sulfur dioxide\"\"\"\"',\n",
       " '\"\"\"\"total sulfur dioxide\"\"\"\"',\n",
       " '\"\"\"\"density\"\"\"\"',\n",
       " '\"\"\"\"pH\"\"\"\"',\n",
       " '\"\"\"\"sulphates\"\"\"\"',\n",
       " '\"\"\"\"alcohol\"\"\"\"']"
      ]
     },
     "execution_count": 6,
     "metadata": {},
     "output_type": "execute_result"
    }
   ],
   "source": [
    "df.columns[0:-1]"
   ]
  },
  {
   "cell_type": "code",
   "execution_count": 7,
   "id": "03385cf6",
   "metadata": {},
   "outputs": [],
   "source": [
    "\n",
    "for col_name in df.columns[0:-1]+['\"\"\"\"quality\"\"\"\"\"']:\n",
    "    df = df.withColumn(col_name, col(col_name).cast('float'))\n",
    "df = df.withColumnRenamed('\"\"\"\"quality\"\"\"\"\"', \"label\")"
   ]
  },
  {
   "cell_type": "code",
   "execution_count": 8,
   "id": "47d44446",
   "metadata": {},
   "outputs": [
    {
     "data": {
      "text/plain": [
       "DataFrame[\"\"\"\"\"fixed acidity\"\"\"\": float, \"\"\"\"volatile acidity\"\"\"\": float, \"\"\"\"citric acid\"\"\"\": float, \"\"\"\"residual sugar\"\"\"\": float, \"\"\"\"chlorides\"\"\"\": float, \"\"\"\"free sulfur dioxide\"\"\"\": float, \"\"\"\"total sulfur dioxide\"\"\"\": float, \"\"\"\"density\"\"\"\": float, \"\"\"\"pH\"\"\"\": float, \"\"\"\"sulphates\"\"\"\": float, \"\"\"\"alcohol\"\"\"\": float, label: float]"
      ]
     },
     "execution_count": 8,
     "metadata": {},
     "output_type": "execute_result"
    }
   ],
   "source": [
    "df"
   ]
  },
  {
   "cell_type": "code",
   "execution_count": 9,
   "id": "61b8bfe3",
   "metadata": {},
   "outputs": [
    {
     "name": "stdout",
     "output_type": "stream",
     "text": [
      "+----------------------+------------------------+-------------------+----------------------+-----------------+---------------------------+----------------------------+---------------+----------+-----------------+---------------+-----+\n",
      "|\"\"\"\"\"fixed acidity\"\"\"\"|\"\"\"\"volatile acidity\"\"\"\"|\"\"\"\"citric acid\"\"\"\"|\"\"\"\"residual sugar\"\"\"\"|\"\"\"\"chlorides\"\"\"\"|\"\"\"\"free sulfur dioxide\"\"\"\"|\"\"\"\"total sulfur dioxide\"\"\"\"|\"\"\"\"density\"\"\"\"|\"\"\"\"pH\"\"\"\"|\"\"\"\"sulphates\"\"\"\"|\"\"\"\"alcohol\"\"\"\"|label|\n",
      "+----------------------+------------------------+-------------------+----------------------+-----------------+---------------------------+----------------------------+---------------+----------+-----------------+---------------+-----+\n",
      "|                     0|                       0|                  0|                     0|                0|                          0|                           0|              0|         0|                0|              0|    0|\n",
      "+----------------------+------------------------+-------------------+----------------------+-----------------+---------------------------+----------------------------+---------------+----------+-----------------+---------------+-----+\n",
      "\n"
     ]
    }
   ],
   "source": [
    "#checking null values\n",
    "from pyspark.sql.functions import isnull, when, count, col\n",
    "df.select([count(when(isnull(c), c)).alias(c) for c in df.columns]).show()"
   ]
  },
  {
   "cell_type": "code",
   "execution_count": 10,
   "id": "803d8a0f",
   "metadata": {},
   "outputs": [
    {
     "data": {
      "text/plain": [
       "[('\"\"\"\"\"fixed acidity\"\"\"\"', 'float'),\n",
       " ('\"\"\"\"volatile acidity\"\"\"\"', 'float'),\n",
       " ('\"\"\"\"citric acid\"\"\"\"', 'float'),\n",
       " ('\"\"\"\"residual sugar\"\"\"\"', 'float'),\n",
       " ('\"\"\"\"chlorides\"\"\"\"', 'float'),\n",
       " ('\"\"\"\"free sulfur dioxide\"\"\"\"', 'float'),\n",
       " ('\"\"\"\"total sulfur dioxide\"\"\"\"', 'float'),\n",
       " ('\"\"\"\"density\"\"\"\"', 'float'),\n",
       " ('\"\"\"\"pH\"\"\"\"', 'float'),\n",
       " ('\"\"\"\"sulphates\"\"\"\"', 'float'),\n",
       " ('\"\"\"\"alcohol\"\"\"\"', 'float'),\n",
       " ('label', 'float')]"
      ]
     },
     "execution_count": 10,
     "metadata": {},
     "output_type": "execute_result"
    }
   ],
   "source": [
    "df.dtypes"
   ]
  },
  {
   "cell_type": "code",
   "execution_count": 25,
   "id": "3685c71b",
   "metadata": {},
   "outputs": [],
   "source": [
    "features =np.array(df.select(df.columns[0:-1]).collect())\n",
    "label = np.array(df.select('label').collect())"
   ]
  },
  {
   "cell_type": "code",
   "execution_count": 26,
   "id": "cf3d6313",
   "metadata": {},
   "outputs": [
    {
     "data": {
      "text/plain": [
       "array([[6.],\n",
       "       [5.],\n",
       "       [5.],\n",
       "       ...,\n",
       "       [6.],\n",
       "       [5.],\n",
       "       [6.]])"
      ]
     },
     "execution_count": 26,
     "metadata": {},
     "output_type": "execute_result"
    }
   ],
   "source": [
    "label"
   ]
  },
  {
   "cell_type": "code",
   "execution_count": 27,
   "id": "7aaf829a",
   "metadata": {},
   "outputs": [],
   "source": [
    "#creating the feature vector\n",
    "VectorAssembler = VectorAssembler(inputCols = df.columns[0:-1] , outputCol = 'features')\n",
    "df_tr = VectorAssembler.transform(df)\n",
    "df_tr = df_tr.select(['features','label'])"
   ]
  },
  {
   "cell_type": "code",
   "execution_count": 28,
   "id": "9a887b0c",
   "metadata": {},
   "outputs": [
    {
     "name": "stdout",
     "output_type": "stream",
     "text": [
      "+--------------------+-----+\n",
      "|            features|label|\n",
      "+--------------------+-----+\n",
      "|[8.89999961853027...|  6.0|\n",
      "|[7.59999990463256...|  5.0|\n",
      "|[7.90000009536743...|  5.0|\n",
      "|[8.5,0.4900000095...|  5.0|\n",
      "|[6.90000009536743...|  6.0|\n",
      "|[6.30000019073486...|  5.0|\n",
      "|[7.59999990463256...|  5.0|\n",
      "|[7.90000009536743...|  5.0|\n",
      "|[7.09999990463256...|  5.0|\n",
      "|[7.80000019073486...|  6.0|\n",
      "|[6.69999980926513...|  5.0|\n",
      "|[6.90000009536743...|  6.0|\n",
      "|[8.30000019073486...|  5.0|\n",
      "|[6.90000009536743...|  6.0|\n",
      "|[5.19999980926513...|  5.0|\n",
      "|[7.80000019073486...|  6.0|\n",
      "|[7.80000019073486...|  6.0|\n",
      "|[8.10000038146972...|  7.0|\n",
      "|[5.69999980926513...|  4.0|\n",
      "|[7.30000019073486...|  5.0|\n",
      "+--------------------+-----+\n",
      "only showing top 20 rows\n",
      "\n"
     ]
    }
   ],
   "source": [
    "df_tr.show()"
   ]
  },
  {
   "cell_type": "code",
   "execution_count": 15,
   "id": "023d88c6",
   "metadata": {},
   "outputs": [],
   "source": [
    "#The following function creates the labeledpoint and parallelize it to convert it into RDD\n",
    "def to_labeled_point(sc, features, labels, categorical=False):\n",
    "    labeled_points = []\n",
    "    for x, y in zip(features, labels):\n",
    "        lp = LabeledPoint(y, x)\n",
    "        labeled_points.append(lp)\n",
    "    return sc.parallelize(labeled_points)"
   ]
  },
  {
   "cell_type": "code",
   "execution_count": 18,
   "id": "208ea820",
   "metadata": {},
   "outputs": [],
   "source": [
    "#rdd converted dataset\n",
    "dataset = to_labeled_point(sc, features, label)\n",
    "\n",
    "#Splitting the dataset into train and test\n",
    "training, test = dataset.randomSplit([0.8, 0.2],seed = 5)"
   ]
  },
  {
   "cell_type": "code",
   "execution_count": 23,
   "id": "55e4ff79",
   "metadata": {},
   "outputs": [
    {
     "data": {
      "text/plain": [
       "ParallelCollectionRDD[40] at readRDDFromFile at PythonRDD.scala:274"
      ]
     },
     "execution_count": 23,
     "metadata": {},
     "output_type": "execute_result"
    }
   ],
   "source": [
    "dataset"
   ]
  },
  {
   "cell_type": "code",
   "execution_count": 24,
   "id": "f3771c68",
   "metadata": {},
   "outputs": [
    {
     "data": {
      "text/plain": [
       "PythonRDD[43] at RDD at PythonRDD.scala:53"
      ]
     },
     "execution_count": 24,
     "metadata": {},
     "output_type": "execute_result"
    }
   ],
   "source": [
    "training"
   ]
  },
  {
   "cell_type": "code",
   "execution_count": null,
   "id": "d2da515a",
   "metadata": {},
   "outputs": [],
   "source": []
  }
 ],
 "metadata": {
  "kernelspec": {
   "display_name": "Python 3 (ipykernel)",
   "language": "python",
   "name": "python3"
  },
  "language_info": {
   "codemirror_mode": {
    "name": "ipython",
    "version": 3
   },
   "file_extension": ".py",
   "mimetype": "text/x-python",
   "name": "python",
   "nbconvert_exporter": "python",
   "pygments_lexer": "ipython3",
   "version": "3.9.7"
  }
 },
 "nbformat": 4,
 "nbformat_minor": 5
}
